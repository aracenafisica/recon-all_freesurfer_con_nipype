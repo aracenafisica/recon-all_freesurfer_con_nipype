{
 "cells": [
  {
   "cell_type": "markdown",
   "id": "6b324377",
   "metadata": {
    "run_control": {
     "marked": true
    }
   },
   "source": [
    "![](imagenes/UC_FMRI.jpg)"
   ]
  },
  {
   "cell_type": "markdown",
   "id": "02cdeee4",
   "metadata": {},
   "source": [
    "---\n",
    "\n",
    "***Andrés Eduardo Aracena Rangel***\n",
    "\n",
    "---\n",
    "\n",
    "\n",
    "&nbsp;\n",
    "\n",
    "Con referencia a:\n",
    "\n",
    " - [nipype beginner's guide de Michael Notter](https://miykael.github.io/nipype-beginner-s-guide/index.html)\n",
    " \n",
    "&nbsp;\n",
    " \n",
    "Imagenes de fMRI extraidas de OpenNuero:\n",
    " \n",
    " - [ds002422](https://openneuro.org/datasets/ds002422/versions/1.1.0)"
   ]
  },
  {
   "cell_type": "markdown",
   "id": "5898bd70",
   "metadata": {},
   "source": [
    "# Recon-all de Freesurfer"
   ]
  },
  {
   "cell_type": "markdown",
   "id": "dc70c339",
   "metadata": {},
   "source": [
    "*recon-all* es el proceso de reconstrucción cortical de FreeSurfer que crea automáticamente una parcela de regiones corticales y una segmentación de regiones subcorticales . Puede encontrar una descripción más detallada sobre el proceso *recon-all* en la página de [inicio oficial](https://surfer.nmr.mgh.harvard.edu/fswiki/recon-all) .\n",
    "\n",
    "Es recomendable ejecutar el procceso *recon-all* de FreeSurfer en las exploraciones anatómicas de los sujetos, debido a que muchos de los otros algoritmos de FreeSurfer requieren la salida de recon-all. \n",
    "\n",
    "El único aspecto negativo es que *recon-all* lleva bastante tiempo procesar un solo tema. En mi caso, presento las caracteristicas del CPU con el que se ejecuto este notebook (el cual puede verifiricar con el comendo *lscpu* en tu teminal linux):\n",
    "\n",
    "\n",
    "<img src = 'imagenes/comand_lscpu.png' width = '550'>\n",
    "\n",
    "\n",
    "Mis tiempos medios obtenidos fueron de:\n",
    "\n",
    " - 1 Sujeto $\\Longrightarrow$ $\\approx$ $5.1\\;h$\n",
    " \n",
    "<img src = 'imagenes/tiempo_ejecucion.png' width = '350'>\n",
    "\n",
    " - 2 Sujetos $\\Longrightarrow$ $\\approx$ $6.5\\;h$\n",
    "\n",
    "<img src = 'imagenes/tiempo_ejecucion_2.png' width = '345'>\n",
    "\n",
    " - 6 Sujetos $\\Longrightarrow$ $\\approx$ $11.6\\;h$\n",
    " \n",
    "<img src = 'imagenes/tiempo_ejecucion_3.png' width = '350'>\n"
   ]
  },
  {
   "cell_type": "markdown",
   "id": "8f590a0c",
   "metadata": {},
   "source": [
    "Se debe conocer la ruta de los archivos que deseamos procesar, en nuestro caso:\n",
    "\n",
    "    sujeto 1   -->  /home/aracena/thesis_practica/data/ds002422/sub-01/anat/sub-01_T1w.nii\n",
    "    sujeto 2   -->  /home/aracena/thesis_practica/data/ds002422/sub-02/anat/sub-02_T1w.nii\n",
    "    .\n",
    "    .\n",
    "    .\n",
    "    sujeto 46  -->  /home/aracena/thesis_practica/data/ds002422/sub-46/anat/sub-46_T1w.nii \n",
    "    \n",
    "Vemos que los archivos solo tiene un parametro dinámico entre sujetos:\n",
    "\n",
    "    subject_id: ['sub-01', 'sub-02', . . . , 'sub-46']\n",
    "    \n",
    "\n",
    "Lo que significa que podemos reescribir las rutas de la siguiente manera:\n",
    "\n",
    "    /home/aracena/thesis_practica/data/ds002422/[subject_id]/anat/[subject_id]_T1w.nii   \n",
    "    \n",
    "\n"
   ]
  },
  {
   "cell_type": "markdown",
   "id": "e277a5a3",
   "metadata": {},
   "source": [
    "## Importamos librerias"
   ]
  },
  {
   "cell_type": "code",
   "execution_count": 1,
   "id": "cc7d38e2",
   "metadata": {},
   "outputs": [],
   "source": [
    "import time # medir el tiempo de ejecución de nuestros programas\n",
    "start = time.process_time()\n",
    "inicio = time.time()"
   ]
  },
  {
   "cell_type": "code",
   "execution_count": 2,
   "id": "555d2302",
   "metadata": {},
   "outputs": [],
   "source": [
    "import os # El módulo os nos permite acceder a funcionalidades dependientes del Sistema Operativo\n",
    "from os.path import join as opj # Este método concatena varios componentes de ruta con exactamente un separador de directorio(‘/’)\n",
    "from nipype.interfaces.utility import IdentityInterface # La clase de interfaz básica genera asignaciones de identidad\n",
    "from nipype.interfaces.freesurfer import ReconAll # clase ReconAll de Freesurfer: generara superficies y parcelaciones de datos estructurales\n",
    "                                                    #a partir de imágenes anatómicas de un sujeto.\n",
    "from nipype.pipeline.engine import Workflow, Node # Worflow: El propósito de los flujos de trabajo es guiar la ejecución secuencial de Nodos\n",
    "                                                    #Node: objeto que representa una determinada función de interfaz"
   ]
  },
  {
   "cell_type": "markdown",
   "id": "e26d4dcc",
   "metadata": {},
   "source": [
    "## Definimos Parametros"
   ]
  },
  {
   "cell_type": "code",
   "execution_count": 3,
   "id": "a53aa3d9",
   "metadata": {},
   "outputs": [
    {
     "data": {
      "text/plain": [
       "0"
      ]
     },
     "execution_count": 3,
     "metadata": {},
     "output_type": "execute_result"
    }
   ],
   "source": [
    "# Ruta del directorio del proyecto\n",
    "experiment_dir = '/home/aracena/thesis_practica' \n",
    "\n",
    "# Ruta de la carpeta donde se encuentran las imagenes\n",
    "data_dir = opj(experiment_dir, 'data', 'ds002422')\n",
    "\n",
    "# Ruta de la carpeta freesurfer donde se guaradaran los resultados de recon-all\n",
    "fs_folder = opj(experiment_dir, 'tips_nibabel','3_recon-all_freesurfer','output','freesurfer')\n",
    "\n",
    "# Lista de indetificación de sujetos\n",
    "subject_list = ['sub-05', 'sub-06','sub-07', 'sub-08','sub-09', 'sub-10'] \n",
    "\n",
    "# Nombre de la imagen pondera en T1 que sera procesada\n",
    "T1_identifier = 'T1w.nii' \n",
    "\n",
    "# Crear la carpeta de salida: FreeSurfer solo se puede ejecutar si esta carpeta existe\n",
    "os.system('mkdir -p %s'%fs_folder)"
   ]
  },
  {
   "cell_type": "markdown",
   "id": "b29e3fc4",
   "metadata": {},
   "source": [
    "## Definimos Funciones"
   ]
  },
  {
   "cell_type": "code",
   "execution_count": 4,
   "id": "75859ac7",
   "metadata": {},
   "outputs": [],
   "source": [
    "# Esta función devuelve para cada sujeto la ruta a struct.nii.gz\n",
    "def pathfinder(subject, foldername, filename):\n",
    "    from os.path import join as opj\n",
    "    struct_path = opj(foldername, subject, 'anat', subject+'_'+filename)\n",
    "    return struct_path"
   ]
  },
  {
   "cell_type": "markdown",
   "id": "27773a3c",
   "metadata": {},
   "source": [
    "## Creamos Nodos"
   ]
  },
  {
   "cell_type": "code",
   "execution_count": 5,
   "id": "c06665f8",
   "metadata": {},
   "outputs": [],
   "source": [
    "# Este nodo genera asignaciones de identidad\n",
    "infosource = Node(IdentityInterface(fields=['subject_id']),\n",
    "                  name=\"infosource\")\n",
    "infosource.iterables = ('subject_id', subject_list)\n",
    "\n",
    "# Este nodo representa el comando recon-all\n",
    "reconall = Node(ReconAll(directive='all',\n",
    "                         #flags='-nuintensitycor-3T',\n",
    "                         subjects_dir=fs_folder),\n",
    "                name=\"reconall\")"
   ]
  },
  {
   "cell_type": "markdown",
   "id": "393d0725",
   "metadata": {},
   "source": [
    "## Especificamos el flujos de trabajo"
   ]
  },
  {
   "cell_type": "code",
   "execution_count": 6,
   "id": "7842944a",
   "metadata": {},
   "outputs": [],
   "source": [
    "# Creamos la canalización que ejecuta el comando recon-all\n",
    "reconflow = Workflow(name=\"reconflow\")\n",
    "reconflow.base_dir = opj(experiment_dir,'tips_nibabel','3_recon-all_freesurfer','output', 'workingdir_reconflow')"
   ]
  },
  {
   "cell_type": "markdown",
   "id": "38a73e39",
   "metadata": {},
   "source": [
    "## Conectamos nodos"
   ]
  },
  {
   "cell_type": "code",
   "execution_count": 7,
   "id": "860d8981",
   "metadata": {},
   "outputs": [],
   "source": [
    "# Esta sección conecta todos los nodos de la tubería entre sí.\n",
    "reconflow.connect([(infosource, reconall, [('subject_id', 'subject_id')]),\n",
    "                   (infosource, reconall, [(('subject_id', pathfinder,\n",
    "                                             data_dir, T1_identifier),\n",
    "                                            'T1_files')]),\n",
    "                   ])"
   ]
  },
  {
   "cell_type": "markdown",
   "id": "5081c096",
   "metadata": {},
   "source": [
    "## Visualizamos el flujo de trabajo"
   ]
  },
  {
   "cell_type": "code",
   "execution_count": 8,
   "id": "8dfa709a",
   "metadata": {},
   "outputs": [
    {
     "name": "stdout",
     "output_type": "stream",
     "text": [
      "211228-13:30:09,80 nipype.workflow INFO:\n",
      "\t Generated workflow graph: /home/aracena/thesis_practica/tips_nibabel/3_recon-all_freesurfer/output/workingdir_reconflow/reconflow/workflow_graph.png (graph2use=hierarchical, simple_form=True).\n"
     ]
    },
    {
     "data": {
      "image/png": "[encoded data removed]",
      "text/plain": [
       "<IPython.core.display.Image object>"
      ]
     },
     "execution_count": 8,
     "metadata": {},
     "output_type": "execute_result"
    }
   ],
   "source": [
    "reconflow.write_graph('workflow_graph.dot')\n",
    "from IPython.display import Image\n",
    "Image(filename=experiment_dir+\n",
    "      '/tips_nibabel/3_recon-all_freesurfer/output/workingdir_reconflow/' +\n",
    "      'reconflow/workflow_graph.png')"
   ]
  },
  {
   "cell_type": "code",
   "execution_count": 9,
   "id": "51d3c866",
   "metadata": {},
   "outputs": [
    {
     "name": "stdout",
     "output_type": "stream",
     "text": [
      "211228-13:30:10,635 nipype.workflow INFO:\n",
      "\t Generated workflow graph: /home/aracena/thesis_practica/tips_nibabel/3_recon-all_freesurfer/output/workingdir_reconflow/reconflow/graph.png (graph2use=flat, simple_form=True).\n"
     ]
    },
    {
     "data": {
      "image/png": "[encoded data removed]",
      "text/plain": [
       "<IPython.core.display.Image object>"
      ]
     },
     "execution_count": 9,
     "metadata": {},
     "output_type": "execute_result"
    }
   ],
   "source": [
    "# Otra visualización del flujo de trabajo\n",
    "reconflow.write_graph(graph2use='flat')\n",
    "Image(filename=experiment_dir+\n",
    "      '/tips_nibabel/3_recon-all_freesurfer/output/workingdir_reconflow/' +\n",
    "      'reconflow/graph_detailed.png')"
   ]
  },
  {
   "cell_type": "markdown",
   "id": "fd187aca",
   "metadata": {},
   "source": [
    "## Ejecutamos el Flujo de trabajo"
   ]
  },
  {
   "cell_type": "code",
   "execution_count": 10,
   "id": "54416ee5",
   "metadata": {},
   "outputs": [
    {
     "name": "stdout",
     "output_type": "stream",
     "text": [
      "211228-13:30:10,966 nipype.workflow INFO:\n",
      "\t Workflow reconflow settings: ['check', 'execution', 'logging', 'monitoring']\n",
      "211228-13:30:11,114 nipype.workflow INFO:\n",
      "\t Running in parallel.\n",
      "211228-13:30:11,120 nipype.workflow INFO:\n",
      "\t [MultiProc] Running 0 tasks, and 6 jobs ready. Free memory (GB): 13.99/13.99, Free processors: 8/8.\n",
      "211228-13:30:11,188 nipype.workflow INFO:\n",
      "\t [Node] Setting-up \"reconflow.reconall\" in \"/opt/home/aracena/thesis_practica/tips_nibabel/3_recon-all_freesurfer/output/workingdir_reconflow/reconflow/_subject_id_sub-10/reconall\".\n",
      "211228-13:30:11,199 nipype.workflow INFO:\n",
      "\t [Node] Executing \"reconall\" <nipype.interfaces.freesurfer.preprocess.ReconAll>\n",
      "211228-13:30:11,199 nipype.workflow INFO:\n",
      "\t [Node] Setting-up \"reconflow.reconall\" in \"/opt/home/aracena/thesis_practica/tips_nibabel/3_recon-all_freesurfer/output/workingdir_reconflow/reconflow/_subject_id_sub-09/reconall\".\n",
      "211228-13:30:11,209 nipype.workflow INFO:\n",
      "\t [Node] Executing \"reconall\" <nipype.interfaces.freesurfer.preprocess.ReconAll>\n",
      "211228-13:30:11,208 nipype.workflow INFO:\n",
      "\t [Node] Setting-up \"reconflow.reconall\" in \"/opt/home/aracena/thesis_practica/tips_nibabel/3_recon-all_freesurfer/output/workingdir_reconflow/reconflow/_subject_id_sub-08/reconall\".\n",
      "211228-13:30:11,219 nipype.workflow INFO:\n",
      "\t [Node] Executing \"reconall\" <nipype.interfaces.freesurfer.preprocess.ReconAll>\n",
      "211228-13:30:11,219 nipype.workflow INFO:\n",
      "\t [Node] Setting-up \"reconflow.reconall\" in \"/opt/home/aracena/thesis_practica/tips_nibabel/3_recon-all_freesurfer/output/workingdir_reconflow/reconflow/_subject_id_sub-07/reconall\".\n",
      "211228-13:30:11,229 nipype.workflow INFO:\n",
      "\t [Node] Setting-up \"reconflow.reconall\" in \"/opt/home/aracena/thesis_practica/tips_nibabel/3_recon-all_freesurfer/output/workingdir_reconflow/reconflow/_subject_id_sub-06/reconall\".\n",
      "211228-13:30:11,229 nipype.workflow INFO:\n",
      "\t [Node] Executing \"reconall\" <nipype.interfaces.freesurfer.preprocess.ReconAll>\n",
      "211228-13:30:11,244 nipype.workflow INFO:\n",
      "\t [Node] Executing \"reconall\" <nipype.interfaces.freesurfer.preprocess.ReconAll>\n",
      "211228-13:30:11,241 nipype.workflow INFO:\n",
      "\t [Node] Setting-up \"reconflow.reconall\" in \"/opt/home/aracena/thesis_practica/tips_nibabel/3_recon-all_freesurfer/output/workingdir_reconflow/reconflow/_subject_id_sub-05/reconall\".\n",
      "211228-13:30:11,251 nipype.workflow INFO:\n",
      "\t [Node] Executing \"reconall\" <nipype.interfaces.freesurfer.preprocess.ReconAll>\n",
      "211228-13:30:13,120 nipype.workflow INFO:\n",
      "\t [MultiProc] Running 6 tasks, and 0 jobs ready. Free memory (GB): 12.79/13.99, Free processors: 2/8.\n",
      "                     Currently running:\n",
      "                       * reconflow.reconall\n",
      "                       * reconflow.reconall\n",
      "                       * reconflow.reconall\n",
      "                       * reconflow.reconall\n",
      "                       * reconflow.reconall\n",
      "                       * reconflow.reconall\n",
      "211229-00:20:48,410 nipype.workflow INFO:\n",
      "\t [Node] Finished \"reconall\", elapsed time 39037.186512s.\n",
      "211229-00:20:50,358 nipype.workflow INFO:\n",
      "\t [Job 0] Completed (reconflow.reconall).\n",
      "211229-00:20:50,398 nipype.workflow INFO:\n",
      "\t [MultiProc] Running 5 tasks, and 0 jobs ready. Free memory (GB): 12.99/13.99, Free processors: 3/8.\n",
      "                     Currently running:\n",
      "                       * reconflow.reconall\n",
      "                       * reconflow.reconall\n",
      "                       * reconflow.reconall\n",
      "                       * reconflow.reconall\n",
      "                       * reconflow.reconall\n",
      "211229-00:29:29,506 nipype.workflow INFO:\n",
      "\t [Node] Finished \"reconall\", elapsed time 39558.267295s.\n",
      "211229-00:29:30,881 nipype.workflow INFO:\n",
      "\t [Job 3] Completed (reconflow.reconall).\n",
      "211229-00:29:30,887 nipype.workflow INFO:\n",
      "\t [MultiProc] Running 4 tasks, and 0 jobs ready. Free memory (GB): 13.19/13.99, Free processors: 4/8.\n",
      "                     Currently running:\n",
      "                       * reconflow.reconall\n",
      "                       * reconflow.reconall\n",
      "                       * reconflow.reconall\n",
      "                       * reconflow.reconall\n",
      "211229-00:49:56,672 nipype.workflow INFO:\n",
      "\t [Node] Finished \"reconall\", elapsed time 40785.417908s.\n",
      "211229-00:49:58,129 nipype.workflow INFO:\n",
      "\t [Job 5] Completed (reconflow.reconall).\n",
      "211229-00:49:58,132 nipype.workflow INFO:\n",
      "\t [MultiProc] Running 3 tasks, and 0 jobs ready. Free memory (GB): 13.39/13.99, Free processors: 5/8.\n",
      "                     Currently running:\n",
      "                       * reconflow.reconall\n",
      "                       * reconflow.reconall\n",
      "                       * reconflow.reconall\n",
      "211229-00:55:21,849 nipype.workflow INFO:\n",
      "\t [Node] Finished \"reconall\", elapsed time 41110.622818s.\n",
      "211229-00:55:22,458 nipype.workflow INFO:\n",
      "\t [Job 2] Completed (reconflow.reconall).\n",
      "211229-00:55:22,460 nipype.workflow INFO:\n",
      "\t [MultiProc] Running 2 tasks, and 0 jobs ready. Free memory (GB): 13.59/13.99, Free processors: 6/8.\n",
      "                     Currently running:\n",
      "                       * reconflow.reconall\n",
      "                       * reconflow.reconall\n",
      "211229-00:59:37,191 nipype.workflow INFO:\n",
      "\t [Node] Finished \"reconall\", elapsed time 41365.944421s.\n",
      "211229-00:59:38,714 nipype.workflow INFO:\n",
      "\t [Job 4] Completed (reconflow.reconall).\n",
      "211229-00:59:38,716 nipype.workflow INFO:\n",
      "\t [MultiProc] Running 1 tasks, and 0 jobs ready. Free memory (GB): 13.79/13.99, Free processors: 7/8.\n",
      "                     Currently running:\n",
      "                       * reconflow.reconall\n",
      "211229-01:03:24,9 nipype.workflow INFO:\n",
      "\t [Node] Finished \"reconall\", elapsed time 41592.792875s.\n",
      "211229-01:03:24,929 nipype.workflow INFO:\n",
      "\t [Job 1] Completed (reconflow.reconall).\n",
      "211229-01:03:24,931 nipype.workflow INFO:\n",
      "\t [MultiProc] Running 0 tasks, and 0 jobs ready. Free memory (GB): 13.99/13.99, Free processors: 8/8.\n"
     ]
    },
    {
     "data": {
      "text/plain": [
       "<networkx.classes.digraph.DiGraph at 0x7f6a9e636430>"
      ]
     },
     "execution_count": 10,
     "metadata": {},
     "output_type": "execute_result"
    }
   ],
   "source": [
    "# Este comando ejecuta la canalización recon-all en paralelo (usando 8 núcleos)\n",
    "reconflow.run('MultiProc', plugin_args={'n_procs': 8})"
   ]
  },
  {
   "cell_type": "markdown",
   "id": "7b04c6db",
   "metadata": {},
   "source": [
    "## Visualizamos el tiempo de ejecución"
   ]
  },
  {
   "cell_type": "code",
   "execution_count": 11,
   "id": "9206959a",
   "metadata": {},
   "outputs": [
    {
     "name": "stdout",
     "output_type": "stream",
     "text": [
      "-----------------------------\n",
      " tiempo de ejecución\n",
      " 41604.372452259064 seg\n",
      " -----------------------------\n",
      "\n",
      "---------------------------------------\n",
      " tiempo de ejecución del sistema y CPU\n",
      " 2589.701964602 seg\n",
      " ---------------------------------------\n",
      "\n"
     ]
    }
   ],
   "source": [
    "fin = time.time()\n",
    "end = time.process_time()\n",
    "tiempo = fin - inicio\n",
    "tiempo2 = end - start\n",
    "\n",
    "print('-----------------------------\\n', \n",
    "      'tiempo de ejecución\\n', tiempo, 'seg\\n',\n",
    "     '-----------------------------\\n')\n",
    "print('---------------------------------------\\n', \n",
    "      'tiempo de ejecución del sistema y CPU\\n', tiempo2, 'seg\\n',\n",
    "     '---------------------------------------\\n')"
   ]
  },
  {
   "cell_type": "code",
   "execution_count": 12,
   "id": "e3b8fb4d",
   "metadata": {},
   "outputs": [
    {
     "data": {
      "text/plain": [
       "0"
      ]
     },
     "execution_count": 12,
     "metadata": {},
     "output_type": "execute_result"
    }
   ],
   "source": [
    "# eliminar todos los archivos temporales almacenados en la carpeta 'workingdir_reconflow'\n",
    "os.system('rm -rf %s'%reconflow.base_dir)"
   ]
  }
 ],
 "metadata": {
  "kernelspec": {
   "display_name": "Python 3 (ipykernel)",
   "language": "python",
   "name": "python3"
  },
  "language_info": {
   "codemirror_mode": {
    "name": "ipython",
    "version": 3
   },
   "file_extension": ".py",
   "mimetype": "text/x-python",
   "name": "python",
   "nbconvert_exporter": "python",
   "pygments_lexer": "ipython3",
   "version": "3.9.7"
  },
  "nbTranslate": {
   "displayLangs": [
    "*"
   ],
   "hotkey": "alt-t",
   "langInMainMenu": true,
   "sourceLang": "en",
   "targetLang": "fr",
   "useGoogleTranslate": true
  },
  "toc": {
   "base_numbering": 1,
   "nav_menu": {},
   "number_sections": true,
   "sideBar": true,
   "skip_h1_title": false,
   "title_cell": "Table of Contents",
   "title_sidebar": "Contents",
   "toc_cell": false,
   "toc_position": {},
   "toc_section_display": true,
   "toc_window_display": false
  },
  "varInspector": {
   "cols": {
    "lenName": 16,
    "lenType": 16,
    "lenVar": 40
   },
   "kernels_config": {
    "python": {
     "delete_cmd_postfix": "",
     "delete_cmd_prefix": "del ",
     "library": "var_list.py",
     "varRefreshCmd": "print(var_dic_list())"
    },
    "r": {
     "delete_cmd_postfix": ") ",
     "delete_cmd_prefix": "rm(",
     "library": "var_list.r",
     "varRefreshCmd": "cat(var_dic_list()) "
    }
   },
   "types_to_exclude": [
    "module",
    "function",
    "builtin_function_or_method",
    "instance",
    "_Feature"
   ],
   "window_display": false
  }
 },
 "nbformat": 4,
 "nbformat_minor": 5
}
